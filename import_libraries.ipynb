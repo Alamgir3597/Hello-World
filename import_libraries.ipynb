{
 "cells": [
  {
   "cell_type": "raw",
   "id": "e2a78956-f005-40a6-99b5-78ef8dc7a9f0",
   "metadata": {},
   "source": [
    "## !pip install pandas      print(pd._version)     at my sytem 2.2.2\n",
    "## !pip install numpy       print(np._version)                 1.26.4\n",
    "## !pip install seaborn     print(sns._version)                0.13.2\n",
    "## !pip install matpotlib   print(plt._version)                7.2.2\n",
    "\n",
    "import numpy as np\n",
    "print(np._version)\n",
    "import seaborn as sns\n",
    "pip show seaborn"
   ]
  },
  {
   "cell_type": "code",
   "execution_count": 11,
   "id": "eef50eda-93d7-4039-8ad4-abde009eeafa",
   "metadata": {},
   "outputs": [],
   "source": [
    "import pandas as pd      ## Pandas is an essential Python library for data analysis and manipulation.\n",
    "import numpy as np       ## NumPy is a fundamental Python library for numerical computing. \n",
    "import seaborn as sns    ## Seaborn is a powerful Python library used for data visualization. \n",
    "import matplotlib as plt ## Matplotlib is a foundational Python library for data visualization"
   ]
  },
  {
   "cell_type": "code",
   "execution_count": 7,
   "id": "3edea05f-8466-4dc1-a14f-5601daa66434",
   "metadata": {},
   "outputs": [
    {
     "name": "stdout",
     "output_type": "stream",
     "text": [
      "Requirement already satisfied: seaborn in c:\\users\\alamgir-pc\\anaconda3\\lib\\site-packages (0.13.2)\n",
      "Requirement already satisfied: numpy!=1.24.0,>=1.20 in c:\\users\\alamgir-pc\\anaconda3\\lib\\site-packages (from seaborn) (1.26.4)\n",
      "Requirement already satisfied: pandas>=1.2 in c:\\users\\alamgir-pc\\anaconda3\\lib\\site-packages (from seaborn) (2.2.2)\n",
      "Requirement already satisfied: matplotlib!=3.6.1,>=3.4 in c:\\users\\alamgir-pc\\anaconda3\\lib\\site-packages (from seaborn) (3.9.2)\n",
      "Requirement already satisfied: contourpy>=1.0.1 in c:\\users\\alamgir-pc\\anaconda3\\lib\\site-packages (from matplotlib!=3.6.1,>=3.4->seaborn) (1.2.0)\n",
      "Requirement already satisfied: cycler>=0.10 in c:\\users\\alamgir-pc\\anaconda3\\lib\\site-packages (from matplotlib!=3.6.1,>=3.4->seaborn) (0.11.0)\n",
      "Requirement already satisfied: fonttools>=4.22.0 in c:\\users\\alamgir-pc\\anaconda3\\lib\\site-packages (from matplotlib!=3.6.1,>=3.4->seaborn) (4.51.0)\n",
      "Requirement already satisfied: kiwisolver>=1.3.1 in c:\\users\\alamgir-pc\\anaconda3\\lib\\site-packages (from matplotlib!=3.6.1,>=3.4->seaborn) (1.4.4)\n",
      "Requirement already satisfied: packaging>=20.0 in c:\\users\\alamgir-pc\\anaconda3\\lib\\site-packages (from matplotlib!=3.6.1,>=3.4->seaborn) (24.1)\n",
      "Requirement already satisfied: pillow>=8 in c:\\users\\alamgir-pc\\anaconda3\\lib\\site-packages (from matplotlib!=3.6.1,>=3.4->seaborn) (10.4.0)\n",
      "Requirement already satisfied: pyparsing>=2.3.1 in c:\\users\\alamgir-pc\\anaconda3\\lib\\site-packages (from matplotlib!=3.6.1,>=3.4->seaborn) (3.1.2)\n",
      "Requirement already satisfied: python-dateutil>=2.7 in c:\\users\\alamgir-pc\\anaconda3\\lib\\site-packages (from matplotlib!=3.6.1,>=3.4->seaborn) (2.9.0.post0)\n",
      "Requirement already satisfied: pytz>=2020.1 in c:\\users\\alamgir-pc\\anaconda3\\lib\\site-packages (from pandas>=1.2->seaborn) (2024.1)\n",
      "Requirement already satisfied: tzdata>=2022.7 in c:\\users\\alamgir-pc\\anaconda3\\lib\\site-packages (from pandas>=1.2->seaborn) (2023.3)\n",
      "Requirement already satisfied: six>=1.5 in c:\\users\\alamgir-pc\\anaconda3\\lib\\site-packages (from python-dateutil>=2.7->matplotlib!=3.6.1,>=3.4->seaborn) (1.16.0)\n",
      "0.13.2\n"
     ]
    }
   ],
   "source": [
    "!pip install seaborn \n",
    "import seaborn as sns\n",
    "print(sns.__version__)"
   ]
  },
  {
   "cell_type": "code",
   "execution_count": 9,
   "id": "e541b390-ba9a-4791-8460-add0cb4f1826",
   "metadata": {},
   "outputs": [],
   "source": []
  },
  {
   "cell_type": "raw",
   "id": "77d5d814-cd24-4dff-b940-1c390c953a99",
   "metadata": {},
   "source": [
    "... \n",
    "Matplotlib and Seaborn are both Python libraries used for data visualization, but they have key differences in functionality and usability:\n",
    "\n",
    "### **1. Complexity vs. Simplicity**\n",
    "- **Matplotlib:** Offers fine-grained control over every aspect of a plot, but requires more coding.\n",
    "- **Seaborn:** Simplifies complex visualizations with less code by building on top of Matplotlib.\n",
    "\n",
    "### **2. Default Aesthetics**\n",
    "- **Matplotlib:** Provides basic plots but requires extra customization for aesthetics.\n",
    "- **Seaborn:** Comes with built-in themes, color palettes, and enhanced visuals for polished graphs.\n",
    "\n",
    "### **3. Statistical Plotting**\n",
    "- **Matplotlib:** Primarily focused on creating standard visualizations.\n",
    "- **Seaborn:** Integrates statistical functions like regression plots, correlation heatmaps, and categorical plots.\n",
    "\n",
    "### **4. Integration**\n",
    "- **Matplotlib:** Works well with NumPy arrays.\n",
    "- **Seaborn:** Optimized for Pandas DataFrames, making data analysis smoother.\n",
    "\n",
    "### **5. Usage**\n",
    "- **Matplotlib:** Best for precise and customizable plotting.\n",
    "- **Seaborn:** Ideal for quick and aesthetically pleasing statistical graphics.\n",
    "\n",
    "Overall, Seaborn makes it easier to create attractive statistical plots, while Matplotlib gives more flexibility for highly customized figures. Both are essential for data visualization! Are you working on a specific type of plot? \n",
    "..."
   ]
  },
  {
   "cell_type": "code",
   "execution_count": 14,
   "id": "50601e64-4a37-4f89-b111-738433dd948b",
   "metadata": {},
   "outputs": [
    {
     "name": "stdout",
     "output_type": "stream",
     "text": [
      "Name: seabornNote: you may need to restart the kernel to use updated packages.\n",
      "\n",
      "Version: 0.13.2\n",
      "Summary: Statistical data visualization\n",
      "Home-page: \n",
      "Author: \n",
      "Author-email: Michael Waskom <mwaskom@gmail.com>\n",
      "License: \n",
      "Location: C:\\Users\\AlAMGIR-PC\\anaconda3\\Lib\\site-packages\n",
      "Requires: matplotlib, numpy, pandas\n",
      "Required-by: \n"
     ]
    }
   ],
   "source": [
    "pip show seaborn"
   ]
  },
  {
   "cell_type": "code",
   "execution_count": null,
   "id": "1ad84fab-5b93-416d-9e0e-d862a9f74df6",
   "metadata": {},
   "outputs": [],
   "source": []
  }
 ],
 "metadata": {
  "kernelspec": {
   "display_name": "Python 3 (ipykernel)",
   "language": "python",
   "name": "python3"
  },
  "language_info": {
   "codemirror_mode": {
    "name": "ipython",
    "version": 3
   },
   "file_extension": ".py",
   "mimetype": "text/x-python",
   "name": "python",
   "nbconvert_exporter": "python",
   "pygments_lexer": "ipython3",
   "version": "3.12.7"
  }
 },
 "nbformat": 4,
 "nbformat_minor": 5
}
